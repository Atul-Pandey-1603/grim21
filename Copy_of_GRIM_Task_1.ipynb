{
  "nbformat": 4,
  "nbformat_minor": 0,
  "metadata": {
    "colab": {
      "name": "Copy of GRIM Task 1.ipynb",
      "provenance": [],
      "collapsed_sections": []
    },
    "kernelspec": {
      "name": "python3",
      "display_name": "Python 3"
    },
    "language_info": {
      "name": "python"
    }
  },
  "cells": [
    {
      "cell_type": "markdown",
      "metadata": {
        "id": "hrCkmIFn4IWc"
      },
      "source": [
        "**IMPORTING LIBRARIES**"
      ]
    },
    {
      "cell_type": "code",
      "metadata": {
        "id": "fhNV5_rA8uXO"
      },
      "source": [
        "import pandas as pd\n",
        "import numpy as np\n",
        "import matplotlib.pyplot as plt"
      ],
      "execution_count": null,
      "outputs": []
    },
    {
      "cell_type": "markdown",
      "metadata": {
        "id": "lvSeOl0L4NKK"
      },
      "source": [
        "**IMPORTING DATASET**"
      ]
    },
    {
      "cell_type": "code",
      "metadata": {
        "colab": {
          "base_uri": "https://localhost:8080/",
          "height": 197
        },
        "id": "bVsdxkISBDqZ",
        "outputId": "fdb6a69a-511d-4513-a56e-330e86e87189"
      },
      "source": [
        "dataset = pd.read_csv('grim.csv')\n",
        "dataset.head()"
      ],
      "execution_count": null,
      "outputs": [
        {
          "output_type": "execute_result",
          "data": {
            "text/html": [
              "<div>\n",
              "<style scoped>\n",
              "    .dataframe tbody tr th:only-of-type {\n",
              "        vertical-align: middle;\n",
              "    }\n",
              "\n",
              "    .dataframe tbody tr th {\n",
              "        vertical-align: top;\n",
              "    }\n",
              "\n",
              "    .dataframe thead th {\n",
              "        text-align: right;\n",
              "    }\n",
              "</style>\n",
              "<table border=\"1\" class=\"dataframe\">\n",
              "  <thead>\n",
              "    <tr style=\"text-align: right;\">\n",
              "      <th></th>\n",
              "      <th>Hours</th>\n",
              "      <th>Scores</th>\n",
              "    </tr>\n",
              "  </thead>\n",
              "  <tbody>\n",
              "    <tr>\n",
              "      <th>0</th>\n",
              "      <td>2.5</td>\n",
              "      <td>21</td>\n",
              "    </tr>\n",
              "    <tr>\n",
              "      <th>1</th>\n",
              "      <td>5.1</td>\n",
              "      <td>47</td>\n",
              "    </tr>\n",
              "    <tr>\n",
              "      <th>2</th>\n",
              "      <td>3.2</td>\n",
              "      <td>27</td>\n",
              "    </tr>\n",
              "    <tr>\n",
              "      <th>3</th>\n",
              "      <td>8.5</td>\n",
              "      <td>75</td>\n",
              "    </tr>\n",
              "    <tr>\n",
              "      <th>4</th>\n",
              "      <td>3.5</td>\n",
              "      <td>30</td>\n",
              "    </tr>\n",
              "  </tbody>\n",
              "</table>\n",
              "</div>"
            ],
            "text/plain": [
              "   Hours  Scores\n",
              "0    2.5      21\n",
              "1    5.1      47\n",
              "2    3.2      27\n",
              "3    8.5      75\n",
              "4    3.5      30"
            ]
          },
          "metadata": {
            "tags": []
          },
          "execution_count": 139
        }
      ]
    },
    {
      "cell_type": "code",
      "metadata": {
        "colab": {
          "base_uri": "https://localhost:8080/"
        },
        "id": "xfBZAEnKLfa_",
        "outputId": "0f6ec6f0-993d-48f3-8626-aab1b0cc40f2"
      },
      "source": [
        "x = dataset.iloc[:,:-1].values\n",
        "y = dataset.iloc[:,-1].values\n",
        "y"
      ],
      "execution_count": null,
      "outputs": [
        {
          "output_type": "execute_result",
          "data": {
            "text/plain": [
              "array([21, 47, 27, 75, 30, 20, 88, 60, 81, 25, 85, 62, 41, 42, 17, 95, 30,\n",
              "       24, 67, 69, 30, 54, 35, 76, 86])"
            ]
          },
          "metadata": {
            "tags": []
          },
          "execution_count": 140
        }
      ]
    },
    {
      "cell_type": "markdown",
      "metadata": {
        "id": "bbYCMJCx4VOf"
      },
      "source": [
        "**SPLITTING THE DATASET INTO TRAIN AND TEST SET**"
      ]
    },
    {
      "cell_type": "code",
      "metadata": {
        "id": "4ranbk3uMIRh"
      },
      "source": [
        "from sklearn.model_selection import train_test_split\n",
        "\n",
        "# Splitting data into 80 - 20 ration for our train and test set\n",
        "x_train,x_test,y_train,y_test = train_test_split(x,y,test_size=0.2,random_state=2) "
      ],
      "execution_count": null,
      "outputs": []
    },
    {
      "cell_type": "markdown",
      "metadata": {
        "id": "dDW9DoOi4e3A"
      },
      "source": [
        "**TRAINING THE MODEL USING LINEAR REGRESSION**"
      ]
    },
    {
      "cell_type": "code",
      "metadata": {
        "id": "uy4LsY6EMjZd"
      },
      "source": [
        "from sklearn.linear_model import LinearRegression\n",
        "\n",
        "#Creating Linear model\n",
        "lr = LinearRegression()\n",
        "\n",
        "#Passing x_train and y_train for training our model\n",
        "lr.fit(x_train,y_train)\n",
        "y_actual = lr.predict(x_train)"
      ],
      "execution_count": null,
      "outputs": []
    },
    {
      "cell_type": "markdown",
      "metadata": {
        "id": "j4fDfW3W4lwJ"
      },
      "source": [
        "**TESTING THE MODEL**"
      ]
    },
    {
      "cell_type": "code",
      "metadata": {
        "id": "fm5jOMUdNyqW"
      },
      "source": [
        "y_pred = lr.predict(x_test)"
      ],
      "execution_count": null,
      "outputs": []
    },
    {
      "cell_type": "markdown",
      "metadata": {
        "id": "yvPJoLSr4qWV"
      },
      "source": [
        "**PLOTTING OUR TRAINED VALUES**"
      ]
    },
    {
      "cell_type": "code",
      "metadata": {
        "colab": {
          "base_uri": "https://localhost:8080/",
          "height": 294
        },
        "id": "gPccSXRjN-qp",
        "outputId": "f333da01-e038-4817-9592-46004657f752"
      },
      "source": [
        "plt.scatter(x_train,y_train,color='red')\n",
        "plt.plot(x_train,y_actual,color='blue')\n",
        "plt.title('Hours vs Score')\n",
        "plt.xlabel('Hours')\n",
        "plt.ylabel('Score')\n",
        "plt.show()"
      ],
      "execution_count": null,
      "outputs": [
        {
          "output_type": "display_data",
          "data": {
            "image/png": "[encoded data removed]",
            "text/plain": [
              "<Figure size 432x288 with 1 Axes>"
            ]
          },
          "metadata": {
            "tags": [],
            "needs_background": "light"
          }
        }
      ]
    },
    {
      "cell_type": "markdown",
      "metadata": {
        "id": "fp_WUwj442CN"
      },
      "source": [
        "**PLOTTING OUR PREDICTED VALUES**"
      ]
    },
    {
      "cell_type": "code",
      "metadata": {
        "colab": {
          "base_uri": "https://localhost:8080/",
          "height": 294
        },
        "id": "BD5YQueAOb71",
        "outputId": "74f3b36d-f5cd-480c-aacf-73f2e55cb2eb"
      },
      "source": [
        "plt.scatter(x_test,y_test,color='red')\n",
        "plt.plot(x_test,y_pred,color='blue')\n",
        "plt.title('Hours vs Score (Predicted)')\n",
        "plt.xlabel('Hours')\n",
        "plt.ylabel('Score')\n",
        "plt.show()"
      ],
      "execution_count": null,
      "outputs": [
        {
          "output_type": "display_data",
          "data": {
            "image/png": "[encoded data removed]",
            "text/plain": [
              "<Figure size 432x288 with 1 Axes>"
            ]
          },
          "metadata": {
            "tags": [],
            "needs_background": "light"
          }
        }
      ]
    },
    {
      "cell_type": "markdown",
      "metadata": {
        "id": "00iIBrUX5UjL"
      },
      "source": [
        "**PREDICTING IF THE STUDENT HAS STUDIED FOR 9.25, HOW MUCH SCORE HE/SHE SHOULD GET**"
      ]
    },
    {
      "cell_type": "code",
      "metadata": {
        "colab": {
          "base_uri": "https://localhost:8080/"
        },
        "id": "KsUF5x9kOqVM",
        "outputId": "2f9fa545-93ea-48ea-ee67-fc34805f25eb"
      },
      "source": [
        "ans = lr.predict([[9.25]])\n",
        "print(\"The student has studied for 9.25 hours, The predicted score the student get is {}\".format(ans))"
      ],
      "execution_count": null,
      "outputs": [
        {
          "output_type": "stream",
          "text": [
            "The student has studied for 9.25 hours, The predicted score the student get is [93.45860056]\n"
          ],
          "name": "stdout"
        }
      ]
    },
    {
      "cell_type": "markdown",
      "metadata": {
        "id": "5UsXdg6S-XXA"
      },
      "source": [
        "**MODEL EVALUATION**"
      ]
    },
    {
      "cell_type": "code",
      "metadata": {
        "colab": {
          "base_uri": "https://localhost:8080/"
        },
        "id": "N78GuY9HOz2b",
        "outputId": "64ca9478-3cd3-4e83-9921-108f7c707a8b"
      },
      "source": [
        "from sklearn.metrics import mean_absolute_error\n",
        "score = lr.score(x_test,y_test)\n",
        "print(\"R^2 = \",score)\n",
        "mae = mean_absolute_error(y_test,y_pred)\n",
        "print(\"Mean Absolute Error = \",mae)"
      ],
      "execution_count": null,
      "outputs": [
        {
          "output_type": "stream",
          "text": [
            "R^2 =  0.9735538080811826\n",
            "Mean Absolute Error =  4.877039354964476\n"
          ],
          "name": "stdout"
        }
      ]
    }
  ]
}